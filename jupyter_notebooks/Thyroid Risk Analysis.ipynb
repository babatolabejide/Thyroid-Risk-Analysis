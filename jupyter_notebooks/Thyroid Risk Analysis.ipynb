{
  "cells": [
    {
      "cell_type": "markdown",
      "metadata": {
        "id": "0aStgWSO0E0E"
      },
      "source": [
        "Data Cleaning for Thyroid cancer."
      ]
    },
    {
      "cell_type": "markdown",
      "metadata": {
        "id": "1eLEkw5O0ECa"
      },
      "source": [
        "## Objectives\n",
        "\n",
        "* Write your notebook objective here, for example, \"Fetch data from Kaggle and save as raw data\", or \"engineer features for modelling\"\n",
        "\n",
        "## Inputs\n",
        "\n",
        "* Write down which data or information you need to run the notebook \n",
        "\n",
        "## Outputs\n",
        "\n",
        "* Write here which files, code or artefacts you generate by the end of the notebook \n",
        "\n",
        "## Additional Comments\n",
        "\n",
        "* If you have any additional comments that don't fit in the previous bullets, please state them here. \n",
        "\n"
      ]
    },
    {
      "cell_type": "markdown",
      "metadata": {
        "id": "9uWZXH9LwoQg"
      },
      "source": [
        "---"
      ]
    },
    {
      "cell_type": "markdown",
      "metadata": {
        "id": "cqP-UeN-z3i2"
      },
      "source": [
        "# Change working directory"
      ]
    },
    {
      "cell_type": "markdown",
      "metadata": {},
      "source": [
        "* We are assuming you will store the notebooks in a subfolder, therefore when running the notebook in the editor, you will need to change the working directory"
      ]
    },
    {
      "cell_type": "markdown",
      "metadata": {
        "id": "aOGIGS-uz3i2"
      },
      "source": [
        "We need to change the working directory from its current folder to its parent folder\n",
        "* We access the current directory with os.getcwd()"
      ]
    },
    {
      "cell_type": "code",
      "execution_count": 2,
      "metadata": {
        "id": "wZfF_j-Bz3i4",
        "outputId": "66943449-1436-4c3d-85c7-b85f9f78349b"
      },
      "outputs": [
        {
          "data": {
            "text/plain": [
              "'e:\\\\Iqra\\\\Documents\\\\Code Institute\\\\vscode-projects\\\\Hackathon2\\\\Thyroid-Risk-Analysis\\\\jupyter_notebooks'"
            ]
          },
          "execution_count": 2,
          "metadata": {},
          "output_type": "execute_result"
        }
      ],
      "source": [
        "import os\n",
        "current_dir = os.getcwd()\n",
        "current_dir"
      ]
    },
    {
      "cell_type": "markdown",
      "metadata": {
        "id": "9MWW8E7lz3i7"
      },
      "source": [
        "We want to make the parent of the current directory the new current directory\n",
        "* os.path.dirname() gets the parent directory\n",
        "* os.chir() defines the new current directory"
      ]
    },
    {
      "cell_type": "code",
      "execution_count": 3,
      "metadata": {
        "id": "TwHsQRWjz3i9",
        "outputId": "86849db3-cd2f-4cc5-ebb8-2d0caafa1a2c"
      },
      "outputs": [
        {
          "name": "stdout",
          "output_type": "stream",
          "text": [
            "You set a new current directory\n"
          ]
        }
      ],
      "source": [
        "os.chdir(os.path.dirname(current_dir))\n",
        "print(\"You set a new current directory\")"
      ]
    },
    {
      "cell_type": "markdown",
      "metadata": {
        "id": "M_xPk_Ijz3i-"
      },
      "source": [
        "Confirm the new current directory"
      ]
    },
    {
      "cell_type": "code",
      "execution_count": 4,
      "metadata": {
        "id": "vz3S-_kjz3jA",
        "outputId": "00b79ae4-75d0-4a96-d193-ac9ef9847ea2"
      },
      "outputs": [
        {
          "data": {
            "text/plain": [
              "'e:\\\\Iqra\\\\Documents\\\\Code Institute\\\\vscode-projects\\\\Hackathon2\\\\Thyroid-Risk-Analysis'"
            ]
          },
          "execution_count": 4,
          "metadata": {},
          "output_type": "execute_result"
        }
      ],
      "source": [
        "current_dir = os.getcwd()\n",
        "current_dir"
      ]
    },
    {
      "cell_type": "markdown",
      "metadata": {},
      "source": [
        "# Section 1 :  Data Extraction, Transformation, and Loading (ETL)"
      ]
    },
    {
      "cell_type": "markdown",
      "metadata": {},
      "source": [
        "Setting up & Importing Python packages that we will be using in this project to carry out the analysis. For example Numpy to compute numerical operations and handle arrays, Pandas for data manipulation and analysis, Matplotlib, Seaborn and Plotly to create different data visualisations."
      ]
    },
    {
      "cell_type": "code",
      "execution_count": 6,
      "metadata": {},
      "outputs": [],
      "source": [
        "import pandas as pd \n",
        "import numpy as np\n",
        "import matplotlib.pyplot as plt\n",
        "import seaborn as sns\n",
        "sns.set_style('whitegrid')\n",
        "import plotly.express as px"
      ]
    },
    {
      "cell_type": "markdown",
      "metadata": {
        "id": "-mavJ8DibrcQ"
      },
      "source": [
        "Data Extraction"
      ]
    },
    {
      "cell_type": "markdown",
      "metadata": {},
      "source": [
        "Loading the CSV dataset containing the data collected previously and extracting it into dataframe using pd.read_csv() function."
      ]
    },
    {
      "cell_type": "code",
      "execution_count": 10,
      "metadata": {},
      "outputs": [],
      "source": [
        "df = pd.read_csv('thyroid_cancer_risk_data.csv')"
      ]
    },
    {
      "cell_type": "markdown",
      "metadata": {},
      "source": [
        "Data Cleaning, Tranformation & Analysis "
      ]
    },
    {
      "cell_type": "markdown",
      "metadata": {},
      "source": [
        "Next checking the general information regarding the data such as column names, datatypes of columns, number of entries and the memory space used through .info() method."
      ]
    },
    {
      "cell_type": "code",
      "execution_count": 11,
      "metadata": {},
      "outputs": [
        {
          "name": "stdout",
          "output_type": "stream",
          "text": [
            "<class 'pandas.core.frame.DataFrame'>\n",
            "RangeIndex: 212691 entries, 0 to 212690\n",
            "Data columns (total 17 columns):\n",
            " #   Column               Non-Null Count   Dtype  \n",
            "---  ------               --------------   -----  \n",
            " 0   Patient_ID           212691 non-null  int64  \n",
            " 1   Age                  212691 non-null  int64  \n",
            " 2   Gender               212691 non-null  object \n",
            " 3   Country              212691 non-null  object \n",
            " 4   Ethnicity            212691 non-null  object \n",
            " 5   Family_History       212691 non-null  object \n",
            " 6   Radiation_Exposure   212691 non-null  object \n",
            " 7   Iodine_Deficiency    212691 non-null  object \n",
            " 8   Smoking              212691 non-null  object \n",
            " 9   Obesity              212691 non-null  object \n",
            " 10  Diabetes             212691 non-null  object \n",
            " 11  TSH_Level            212691 non-null  float64\n",
            " 12  T3_Level             212691 non-null  float64\n",
            " 13  T4_Level             212691 non-null  float64\n",
            " 14  Nodule_Size          212691 non-null  float64\n",
            " 15  Thyroid_Cancer_Risk  212691 non-null  object \n",
            " 16  Diagnosis            212691 non-null  object \n",
            "dtypes: float64(4), int64(2), object(11)\n",
            "memory usage: 27.6+ MB\n"
          ]
        }
      ],
      "source": [
        "df.info()"
      ]
    },
    {
      "cell_type": "markdown",
      "metadata": {},
      "source": [
        "Reviewing top 5 entries in dataset to get a general overview of the dataset with .head() method"
      ]
    },
    {
      "cell_type": "code",
      "execution_count": 8,
      "metadata": {},
      "outputs": [
        {
          "data": {
            "text/html": [
              "<div>\n",
              "<style scoped>\n",
              "    .dataframe tbody tr th:only-of-type {\n",
              "        vertical-align: middle;\n",
              "    }\n",
              "\n",
              "    .dataframe tbody tr th {\n",
              "        vertical-align: top;\n",
              "    }\n",
              "\n",
              "    .dataframe thead th {\n",
              "        text-align: right;\n",
              "    }\n",
              "</style>\n",
              "<table border=\"1\" class=\"dataframe\">\n",
              "  <thead>\n",
              "    <tr style=\"text-align: right;\">\n",
              "      <th></th>\n",
              "      <th>Patient_ID</th>\n",
              "      <th>Age</th>\n",
              "      <th>Gender</th>\n",
              "      <th>Country</th>\n",
              "      <th>Ethnicity</th>\n",
              "      <th>Family_History</th>\n",
              "      <th>Radiation_Exposure</th>\n",
              "      <th>Iodine_Deficiency</th>\n",
              "      <th>Smoking</th>\n",
              "      <th>Obesity</th>\n",
              "      <th>Diabetes</th>\n",
              "      <th>TSH_Level</th>\n",
              "      <th>T3_Level</th>\n",
              "      <th>T4_Level</th>\n",
              "      <th>Nodule_Size</th>\n",
              "      <th>Thyroid_Cancer_Risk</th>\n",
              "      <th>Diagnosis</th>\n",
              "    </tr>\n",
              "  </thead>\n",
              "  <tbody>\n",
              "    <tr>\n",
              "      <th>0</th>\n",
              "      <td>1</td>\n",
              "      <td>66</td>\n",
              "      <td>Male</td>\n",
              "      <td>Russia</td>\n",
              "      <td>Caucasian</td>\n",
              "      <td>No</td>\n",
              "      <td>Yes</td>\n",
              "      <td>No</td>\n",
              "      <td>No</td>\n",
              "      <td>No</td>\n",
              "      <td>No</td>\n",
              "      <td>9.37</td>\n",
              "      <td>1.67</td>\n",
              "      <td>6.16</td>\n",
              "      <td>1.08</td>\n",
              "      <td>Low</td>\n",
              "      <td>Benign</td>\n",
              "    </tr>\n",
              "    <tr>\n",
              "      <th>1</th>\n",
              "      <td>2</td>\n",
              "      <td>29</td>\n",
              "      <td>Male</td>\n",
              "      <td>Germany</td>\n",
              "      <td>Hispanic</td>\n",
              "      <td>No</td>\n",
              "      <td>Yes</td>\n",
              "      <td>No</td>\n",
              "      <td>No</td>\n",
              "      <td>No</td>\n",
              "      <td>No</td>\n",
              "      <td>1.83</td>\n",
              "      <td>1.73</td>\n",
              "      <td>10.54</td>\n",
              "      <td>4.05</td>\n",
              "      <td>Low</td>\n",
              "      <td>Benign</td>\n",
              "    </tr>\n",
              "    <tr>\n",
              "      <th>2</th>\n",
              "      <td>3</td>\n",
              "      <td>86</td>\n",
              "      <td>Male</td>\n",
              "      <td>Nigeria</td>\n",
              "      <td>Caucasian</td>\n",
              "      <td>No</td>\n",
              "      <td>No</td>\n",
              "      <td>No</td>\n",
              "      <td>No</td>\n",
              "      <td>No</td>\n",
              "      <td>No</td>\n",
              "      <td>6.26</td>\n",
              "      <td>2.59</td>\n",
              "      <td>10.57</td>\n",
              "      <td>4.61</td>\n",
              "      <td>Low</td>\n",
              "      <td>Benign</td>\n",
              "    </tr>\n",
              "    <tr>\n",
              "      <th>3</th>\n",
              "      <td>4</td>\n",
              "      <td>75</td>\n",
              "      <td>Female</td>\n",
              "      <td>India</td>\n",
              "      <td>Asian</td>\n",
              "      <td>No</td>\n",
              "      <td>No</td>\n",
              "      <td>No</td>\n",
              "      <td>No</td>\n",
              "      <td>No</td>\n",
              "      <td>No</td>\n",
              "      <td>4.10</td>\n",
              "      <td>2.62</td>\n",
              "      <td>11.04</td>\n",
              "      <td>2.46</td>\n",
              "      <td>Medium</td>\n",
              "      <td>Benign</td>\n",
              "    </tr>\n",
              "    <tr>\n",
              "      <th>4</th>\n",
              "      <td>5</td>\n",
              "      <td>35</td>\n",
              "      <td>Female</td>\n",
              "      <td>Germany</td>\n",
              "      <td>African</td>\n",
              "      <td>Yes</td>\n",
              "      <td>Yes</td>\n",
              "      <td>No</td>\n",
              "      <td>No</td>\n",
              "      <td>No</td>\n",
              "      <td>No</td>\n",
              "      <td>9.10</td>\n",
              "      <td>2.11</td>\n",
              "      <td>10.71</td>\n",
              "      <td>2.11</td>\n",
              "      <td>High</td>\n",
              "      <td>Benign</td>\n",
              "    </tr>\n",
              "  </tbody>\n",
              "</table>\n",
              "</div>"
            ],
            "text/plain": [
              "   Patient_ID  Age  Gender  Country  Ethnicity Family_History  \\\n",
              "0           1   66    Male   Russia  Caucasian             No   \n",
              "1           2   29    Male  Germany   Hispanic             No   \n",
              "2           3   86    Male  Nigeria  Caucasian             No   \n",
              "3           4   75  Female    India      Asian             No   \n",
              "4           5   35  Female  Germany    African            Yes   \n",
              "\n",
              "  Radiation_Exposure Iodine_Deficiency Smoking Obesity Diabetes  TSH_Level  \\\n",
              "0                Yes                No      No      No       No       9.37   \n",
              "1                Yes                No      No      No       No       1.83   \n",
              "2                 No                No      No      No       No       6.26   \n",
              "3                 No                No      No      No       No       4.10   \n",
              "4                Yes                No      No      No       No       9.10   \n",
              "\n",
              "   T3_Level  T4_Level  Nodule_Size Thyroid_Cancer_Risk Diagnosis  \n",
              "0      1.67      6.16         1.08                 Low    Benign  \n",
              "1      1.73     10.54         4.05                 Low    Benign  \n",
              "2      2.59     10.57         4.61                 Low    Benign  \n",
              "3      2.62     11.04         2.46              Medium    Benign  \n",
              "4      2.11     10.71         2.11                High    Benign  "
            ]
          },
          "execution_count": 8,
          "metadata": {},
          "output_type": "execute_result"
        }
      ],
      "source": [
        "df.head()"
      ]
    },
    {
      "cell_type": "markdown",
      "metadata": {},
      "source": [
        "Checking for missing values"
      ]
    },
    {
      "cell_type": "code",
      "execution_count": 14,
      "metadata": {},
      "outputs": [
        {
          "data": {
            "text/plain": [
              "Patient_ID             0\n",
              "Age                    0\n",
              "Gender                 0\n",
              "Country                0\n",
              "Ethnicity              0\n",
              "Family_History         0\n",
              "Radiation_Exposure     0\n",
              "Iodine_Deficiency      0\n",
              "Smoking                0\n",
              "Obesity                0\n",
              "Diabetes               0\n",
              "TSH_Level              0\n",
              "T3_Level               0\n",
              "T4_Level               0\n",
              "Nodule_Size            0\n",
              "Thyroid_Cancer_Risk    0\n",
              "Diagnosis              0\n",
              "dtype: int64"
            ]
          },
          "execution_count": 14,
          "metadata": {},
          "output_type": "execute_result"
        }
      ],
      "source": [
        "df.isnull().sum()"
      ]
    },
    {
      "cell_type": "markdown",
      "metadata": {},
      "source": [
        "Checking for each Column's datatype"
      ]
    },
    {
      "cell_type": "code",
      "execution_count": 15,
      "metadata": {},
      "outputs": [
        {
          "data": {
            "text/plain": [
              "Patient_ID               int64\n",
              "Age                      int64\n",
              "Gender                  object\n",
              "Country                 object\n",
              "Ethnicity               object\n",
              "Family_History          object\n",
              "Radiation_Exposure      object\n",
              "Iodine_Deficiency       object\n",
              "Smoking                 object\n",
              "Obesity                 object\n",
              "Diabetes                object\n",
              "TSH_Level              float64\n",
              "T3_Level               float64\n",
              "T4_Level               float64\n",
              "Nodule_Size            float64\n",
              "Thyroid_Cancer_Risk     object\n",
              "Diagnosis               object\n",
              "dtype: object"
            ]
          },
          "execution_count": 15,
          "metadata": {},
          "output_type": "execute_result"
        }
      ],
      "source": [
        "df.dtypes"
      ]
    },
    {
      "cell_type": "markdown",
      "metadata": {},
      "source": [
        "Checking for any duplicate values in data"
      ]
    },
    {
      "cell_type": "code",
      "execution_count": 22,
      "metadata": {},
      "outputs": [
        {
          "name": "stdout",
          "output_type": "stream",
          "text": [
            "There are duplicate entries: False .\n"
          ]
        }
      ],
      "source": [
        "duplicate_check = df.duplicated().any()\n",
        "print('There are duplicate entries:', duplicate_check,'.')"
      ]
    },
    {
      "cell_type": "code",
      "execution_count": 23,
      "metadata": {},
      "outputs": [
        {
          "data": {
            "text/html": [
              "<div>\n",
              "<style scoped>\n",
              "    .dataframe tbody tr th:only-of-type {\n",
              "        vertical-align: middle;\n",
              "    }\n",
              "\n",
              "    .dataframe tbody tr th {\n",
              "        vertical-align: top;\n",
              "    }\n",
              "\n",
              "    .dataframe thead th {\n",
              "        text-align: right;\n",
              "    }\n",
              "</style>\n",
              "<table border=\"1\" class=\"dataframe\">\n",
              "  <thead>\n",
              "    <tr style=\"text-align: right;\">\n",
              "      <th></th>\n",
              "      <th>Patient_ID</th>\n",
              "      <th>Age</th>\n",
              "      <th>Gender</th>\n",
              "      <th>Country</th>\n",
              "      <th>Ethnicity</th>\n",
              "      <th>Family_History</th>\n",
              "      <th>Radiation_Exposure</th>\n",
              "      <th>Iodine_Deficiency</th>\n",
              "      <th>Smoking</th>\n",
              "      <th>Obesity</th>\n",
              "      <th>Diabetes</th>\n",
              "      <th>TSH_Level</th>\n",
              "      <th>T3_Level</th>\n",
              "      <th>T4_Level</th>\n",
              "      <th>Nodule_Size</th>\n",
              "      <th>Thyroid_Cancer_Risk</th>\n",
              "      <th>Diagnosis</th>\n",
              "    </tr>\n",
              "  </thead>\n",
              "  <tbody>\n",
              "    <tr>\n",
              "      <th>0</th>\n",
              "      <td>1</td>\n",
              "      <td>66</td>\n",
              "      <td>Male</td>\n",
              "      <td>Russia</td>\n",
              "      <td>Caucasian</td>\n",
              "      <td>No</td>\n",
              "      <td>Yes</td>\n",
              "      <td>No</td>\n",
              "      <td>No</td>\n",
              "      <td>No</td>\n",
              "      <td>No</td>\n",
              "      <td>9.37</td>\n",
              "      <td>1.67</td>\n",
              "      <td>6.16</td>\n",
              "      <td>1.08</td>\n",
              "      <td>Low</td>\n",
              "      <td>Benign</td>\n",
              "    </tr>\n",
              "    <tr>\n",
              "      <th>1</th>\n",
              "      <td>2</td>\n",
              "      <td>29</td>\n",
              "      <td>Male</td>\n",
              "      <td>Germany</td>\n",
              "      <td>Hispanic</td>\n",
              "      <td>No</td>\n",
              "      <td>Yes</td>\n",
              "      <td>No</td>\n",
              "      <td>No</td>\n",
              "      <td>No</td>\n",
              "      <td>No</td>\n",
              "      <td>1.83</td>\n",
              "      <td>1.73</td>\n",
              "      <td>10.54</td>\n",
              "      <td>4.05</td>\n",
              "      <td>Low</td>\n",
              "      <td>Benign</td>\n",
              "    </tr>\n",
              "    <tr>\n",
              "      <th>2</th>\n",
              "      <td>3</td>\n",
              "      <td>86</td>\n",
              "      <td>Male</td>\n",
              "      <td>Nigeria</td>\n",
              "      <td>Caucasian</td>\n",
              "      <td>No</td>\n",
              "      <td>No</td>\n",
              "      <td>No</td>\n",
              "      <td>No</td>\n",
              "      <td>No</td>\n",
              "      <td>No</td>\n",
              "      <td>6.26</td>\n",
              "      <td>2.59</td>\n",
              "      <td>10.57</td>\n",
              "      <td>4.61</td>\n",
              "      <td>Low</td>\n",
              "      <td>Benign</td>\n",
              "    </tr>\n",
              "    <tr>\n",
              "      <th>3</th>\n",
              "      <td>4</td>\n",
              "      <td>75</td>\n",
              "      <td>Female</td>\n",
              "      <td>India</td>\n",
              "      <td>Asian</td>\n",
              "      <td>No</td>\n",
              "      <td>No</td>\n",
              "      <td>No</td>\n",
              "      <td>No</td>\n",
              "      <td>No</td>\n",
              "      <td>No</td>\n",
              "      <td>4.10</td>\n",
              "      <td>2.62</td>\n",
              "      <td>11.04</td>\n",
              "      <td>2.46</td>\n",
              "      <td>Medium</td>\n",
              "      <td>Benign</td>\n",
              "    </tr>\n",
              "    <tr>\n",
              "      <th>4</th>\n",
              "      <td>5</td>\n",
              "      <td>35</td>\n",
              "      <td>Female</td>\n",
              "      <td>Germany</td>\n",
              "      <td>African</td>\n",
              "      <td>Yes</td>\n",
              "      <td>Yes</td>\n",
              "      <td>No</td>\n",
              "      <td>No</td>\n",
              "      <td>No</td>\n",
              "      <td>No</td>\n",
              "      <td>9.10</td>\n",
              "      <td>2.11</td>\n",
              "      <td>10.71</td>\n",
              "      <td>2.11</td>\n",
              "      <td>High</td>\n",
              "      <td>Benign</td>\n",
              "    </tr>\n",
              "    <tr>\n",
              "      <th>...</th>\n",
              "      <td>...</td>\n",
              "      <td>...</td>\n",
              "      <td>...</td>\n",
              "      <td>...</td>\n",
              "      <td>...</td>\n",
              "      <td>...</td>\n",
              "      <td>...</td>\n",
              "      <td>...</td>\n",
              "      <td>...</td>\n",
              "      <td>...</td>\n",
              "      <td>...</td>\n",
              "      <td>...</td>\n",
              "      <td>...</td>\n",
              "      <td>...</td>\n",
              "      <td>...</td>\n",
              "      <td>...</td>\n",
              "      <td>...</td>\n",
              "    </tr>\n",
              "    <tr>\n",
              "      <th>212686</th>\n",
              "      <td>212687</td>\n",
              "      <td>58</td>\n",
              "      <td>Female</td>\n",
              "      <td>India</td>\n",
              "      <td>Asian</td>\n",
              "      <td>No</td>\n",
              "      <td>No</td>\n",
              "      <td>No</td>\n",
              "      <td>No</td>\n",
              "      <td>Yes</td>\n",
              "      <td>No</td>\n",
              "      <td>2.00</td>\n",
              "      <td>0.64</td>\n",
              "      <td>11.92</td>\n",
              "      <td>1.48</td>\n",
              "      <td>Low</td>\n",
              "      <td>Benign</td>\n",
              "    </tr>\n",
              "    <tr>\n",
              "      <th>212687</th>\n",
              "      <td>212688</td>\n",
              "      <td>89</td>\n",
              "      <td>Male</td>\n",
              "      <td>Japan</td>\n",
              "      <td>Middle Eastern</td>\n",
              "      <td>No</td>\n",
              "      <td>No</td>\n",
              "      <td>No</td>\n",
              "      <td>No</td>\n",
              "      <td>Yes</td>\n",
              "      <td>No</td>\n",
              "      <td>9.77</td>\n",
              "      <td>3.25</td>\n",
              "      <td>7.30</td>\n",
              "      <td>4.46</td>\n",
              "      <td>Medium</td>\n",
              "      <td>Benign</td>\n",
              "    </tr>\n",
              "    <tr>\n",
              "      <th>212688</th>\n",
              "      <td>212689</td>\n",
              "      <td>72</td>\n",
              "      <td>Female</td>\n",
              "      <td>Nigeria</td>\n",
              "      <td>Hispanic</td>\n",
              "      <td>No</td>\n",
              "      <td>No</td>\n",
              "      <td>No</td>\n",
              "      <td>No</td>\n",
              "      <td>No</td>\n",
              "      <td>Yes</td>\n",
              "      <td>7.72</td>\n",
              "      <td>2.44</td>\n",
              "      <td>8.71</td>\n",
              "      <td>2.36</td>\n",
              "      <td>Medium</td>\n",
              "      <td>Benign</td>\n",
              "    </tr>\n",
              "    <tr>\n",
              "      <th>212689</th>\n",
              "      <td>212690</td>\n",
              "      <td>85</td>\n",
              "      <td>Female</td>\n",
              "      <td>Brazil</td>\n",
              "      <td>Middle Eastern</td>\n",
              "      <td>No</td>\n",
              "      <td>No</td>\n",
              "      <td>No</td>\n",
              "      <td>No</td>\n",
              "      <td>No</td>\n",
              "      <td>Yes</td>\n",
              "      <td>5.62</td>\n",
              "      <td>2.53</td>\n",
              "      <td>9.62</td>\n",
              "      <td>1.54</td>\n",
              "      <td>Medium</td>\n",
              "      <td>Benign</td>\n",
              "    </tr>\n",
              "    <tr>\n",
              "      <th>212690</th>\n",
              "      <td>212691</td>\n",
              "      <td>46</td>\n",
              "      <td>Female</td>\n",
              "      <td>Japan</td>\n",
              "      <td>Middle Eastern</td>\n",
              "      <td>No</td>\n",
              "      <td>No</td>\n",
              "      <td>No</td>\n",
              "      <td>Yes</td>\n",
              "      <td>No</td>\n",
              "      <td>No</td>\n",
              "      <td>5.60</td>\n",
              "      <td>2.73</td>\n",
              "      <td>10.59</td>\n",
              "      <td>2.53</td>\n",
              "      <td>Low</td>\n",
              "      <td>Malignant</td>\n",
              "    </tr>\n",
              "  </tbody>\n",
              "</table>\n",
              "<p>212691 rows × 17 columns</p>\n",
              "</div>"
            ],
            "text/plain": [
              "        Patient_ID  Age  Gender  Country       Ethnicity Family_History  \\\n",
              "0                1   66    Male   Russia       Caucasian             No   \n",
              "1                2   29    Male  Germany        Hispanic             No   \n",
              "2                3   86    Male  Nigeria       Caucasian             No   \n",
              "3                4   75  Female    India           Asian             No   \n",
              "4                5   35  Female  Germany         African            Yes   \n",
              "...            ...  ...     ...      ...             ...            ...   \n",
              "212686      212687   58  Female    India           Asian             No   \n",
              "212687      212688   89    Male    Japan  Middle Eastern             No   \n",
              "212688      212689   72  Female  Nigeria        Hispanic             No   \n",
              "212689      212690   85  Female   Brazil  Middle Eastern             No   \n",
              "212690      212691   46  Female    Japan  Middle Eastern             No   \n",
              "\n",
              "       Radiation_Exposure Iodine_Deficiency Smoking Obesity Diabetes  \\\n",
              "0                     Yes                No      No      No       No   \n",
              "1                     Yes                No      No      No       No   \n",
              "2                      No                No      No      No       No   \n",
              "3                      No                No      No      No       No   \n",
              "4                     Yes                No      No      No       No   \n",
              "...                   ...               ...     ...     ...      ...   \n",
              "212686                 No                No      No     Yes       No   \n",
              "212687                 No                No      No     Yes       No   \n",
              "212688                 No                No      No      No      Yes   \n",
              "212689                 No                No      No      No      Yes   \n",
              "212690                 No                No     Yes      No       No   \n",
              "\n",
              "        TSH_Level  T3_Level  T4_Level  Nodule_Size Thyroid_Cancer_Risk  \\\n",
              "0            9.37      1.67      6.16         1.08                 Low   \n",
              "1            1.83      1.73     10.54         4.05                 Low   \n",
              "2            6.26      2.59     10.57         4.61                 Low   \n",
              "3            4.10      2.62     11.04         2.46              Medium   \n",
              "4            9.10      2.11     10.71         2.11                High   \n",
              "...           ...       ...       ...          ...                 ...   \n",
              "212686       2.00      0.64     11.92         1.48                 Low   \n",
              "212687       9.77      3.25      7.30         4.46              Medium   \n",
              "212688       7.72      2.44      8.71         2.36              Medium   \n",
              "212689       5.62      2.53      9.62         1.54              Medium   \n",
              "212690       5.60      2.73     10.59         2.53                 Low   \n",
              "\n",
              "        Diagnosis  \n",
              "0          Benign  \n",
              "1          Benign  \n",
              "2          Benign  \n",
              "3          Benign  \n",
              "4          Benign  \n",
              "...           ...  \n",
              "212686     Benign  \n",
              "212687     Benign  \n",
              "212688     Benign  \n",
              "212689     Benign  \n",
              "212690  Malignant  \n",
              "\n",
              "[212691 rows x 17 columns]"
            ]
          },
          "execution_count": 23,
          "metadata": {},
          "output_type": "execute_result"
        }
      ],
      "source": [
        "# Check missing values\n",
        "df.isnull().sum()  # Shows count of missing values per column\n",
        "\n",
        "# Cleaning any empty values to 0 for easier numeric computation\n",
        "df.fillna(0)  # Fill all missing values with 0"
      ]
    },
    {
      "cell_type": "markdown",
      "metadata": {},
      "source": [
        "Dropping the patient ID column to anonimise the data with .drop() method and then rechecking if it has been dropped with .head() method."
      ]
    },
    {
      "cell_type": "code",
      "execution_count": 27,
      "metadata": {},
      "outputs": [
        {
          "ename": "KeyError",
          "evalue": "\"['Patient_ID'] not found in axis\"",
          "output_type": "error",
          "traceback": [
            "\u001b[1;31m---------------------------------------------------------------------------\u001b[0m",
            "\u001b[1;31mKeyError\u001b[0m                                  Traceback (most recent call last)",
            "Cell \u001b[1;32mIn[27], line 1\u001b[0m\n\u001b[1;32m----> 1\u001b[0m df \u001b[38;5;241m=\u001b[39m \u001b[43mdf\u001b[49m\u001b[38;5;241;43m.\u001b[39;49m\u001b[43mdrop\u001b[49m\u001b[43m(\u001b[49m\u001b[43mcolumns\u001b[49m\u001b[38;5;241;43m=\u001b[39;49m\u001b[43m[\u001b[49m\u001b[38;5;124;43m\"\u001b[39;49m\u001b[38;5;124;43mPatient_ID\u001b[39;49m\u001b[38;5;124;43m\"\u001b[39;49m\u001b[43m]\u001b[49m\u001b[43m)\u001b[49m\n\u001b[0;32m      2\u001b[0m df\u001b[38;5;241m.\u001b[39mhead()\n",
            "File \u001b[1;32me:\\Python 3.12\\Lib\\site-packages\\pandas\\core\\frame.py:5347\u001b[0m, in \u001b[0;36mDataFrame.drop\u001b[1;34m(self, labels, axis, index, columns, level, inplace, errors)\u001b[0m\n\u001b[0;32m   5199\u001b[0m \u001b[38;5;28;01mdef\u001b[39;00m\u001b[38;5;250m \u001b[39m\u001b[38;5;21mdrop\u001b[39m(\n\u001b[0;32m   5200\u001b[0m     \u001b[38;5;28mself\u001b[39m,\n\u001b[0;32m   5201\u001b[0m     labels: IndexLabel \u001b[38;5;241m|\u001b[39m \u001b[38;5;28;01mNone\u001b[39;00m \u001b[38;5;241m=\u001b[39m \u001b[38;5;28;01mNone\u001b[39;00m,\n\u001b[1;32m   (...)\u001b[0m\n\u001b[0;32m   5208\u001b[0m     errors: IgnoreRaise \u001b[38;5;241m=\u001b[39m \u001b[38;5;124m\"\u001b[39m\u001b[38;5;124mraise\u001b[39m\u001b[38;5;124m\"\u001b[39m,\n\u001b[0;32m   5209\u001b[0m ) \u001b[38;5;241m-\u001b[39m\u001b[38;5;241m>\u001b[39m DataFrame \u001b[38;5;241m|\u001b[39m \u001b[38;5;28;01mNone\u001b[39;00m:\n\u001b[0;32m   5210\u001b[0m \u001b[38;5;250m    \u001b[39m\u001b[38;5;124;03m\"\"\"\u001b[39;00m\n\u001b[0;32m   5211\u001b[0m \u001b[38;5;124;03m    Drop specified labels from rows or columns.\u001b[39;00m\n\u001b[0;32m   5212\u001b[0m \n\u001b[1;32m   (...)\u001b[0m\n\u001b[0;32m   5345\u001b[0m \u001b[38;5;124;03m            weight  1.0     0.8\u001b[39;00m\n\u001b[0;32m   5346\u001b[0m \u001b[38;5;124;03m    \"\"\"\u001b[39;00m\n\u001b[1;32m-> 5347\u001b[0m     \u001b[38;5;28;01mreturn\u001b[39;00m \u001b[38;5;28;43msuper\u001b[39;49m\u001b[43m(\u001b[49m\u001b[43m)\u001b[49m\u001b[38;5;241;43m.\u001b[39;49m\u001b[43mdrop\u001b[49m\u001b[43m(\u001b[49m\n\u001b[0;32m   5348\u001b[0m \u001b[43m        \u001b[49m\u001b[43mlabels\u001b[49m\u001b[38;5;241;43m=\u001b[39;49m\u001b[43mlabels\u001b[49m\u001b[43m,\u001b[49m\n\u001b[0;32m   5349\u001b[0m \u001b[43m        \u001b[49m\u001b[43maxis\u001b[49m\u001b[38;5;241;43m=\u001b[39;49m\u001b[43maxis\u001b[49m\u001b[43m,\u001b[49m\n\u001b[0;32m   5350\u001b[0m \u001b[43m        \u001b[49m\u001b[43mindex\u001b[49m\u001b[38;5;241;43m=\u001b[39;49m\u001b[43mindex\u001b[49m\u001b[43m,\u001b[49m\n\u001b[0;32m   5351\u001b[0m \u001b[43m        \u001b[49m\u001b[43mcolumns\u001b[49m\u001b[38;5;241;43m=\u001b[39;49m\u001b[43mcolumns\u001b[49m\u001b[43m,\u001b[49m\n\u001b[0;32m   5352\u001b[0m \u001b[43m        \u001b[49m\u001b[43mlevel\u001b[49m\u001b[38;5;241;43m=\u001b[39;49m\u001b[43mlevel\u001b[49m\u001b[43m,\u001b[49m\n\u001b[0;32m   5353\u001b[0m \u001b[43m        \u001b[49m\u001b[43minplace\u001b[49m\u001b[38;5;241;43m=\u001b[39;49m\u001b[43minplace\u001b[49m\u001b[43m,\u001b[49m\n\u001b[0;32m   5354\u001b[0m \u001b[43m        \u001b[49m\u001b[43merrors\u001b[49m\u001b[38;5;241;43m=\u001b[39;49m\u001b[43merrors\u001b[49m\u001b[43m,\u001b[49m\n\u001b[0;32m   5355\u001b[0m \u001b[43m    \u001b[49m\u001b[43m)\u001b[49m\n",
            "File \u001b[1;32me:\\Python 3.12\\Lib\\site-packages\\pandas\\core\\generic.py:4711\u001b[0m, in \u001b[0;36mNDFrame.drop\u001b[1;34m(self, labels, axis, index, columns, level, inplace, errors)\u001b[0m\n\u001b[0;32m   4709\u001b[0m \u001b[38;5;28;01mfor\u001b[39;00m axis, labels \u001b[38;5;129;01min\u001b[39;00m axes\u001b[38;5;241m.\u001b[39mitems():\n\u001b[0;32m   4710\u001b[0m     \u001b[38;5;28;01mif\u001b[39;00m labels \u001b[38;5;129;01mis\u001b[39;00m \u001b[38;5;129;01mnot\u001b[39;00m \u001b[38;5;28;01mNone\u001b[39;00m:\n\u001b[1;32m-> 4711\u001b[0m         obj \u001b[38;5;241m=\u001b[39m \u001b[43mobj\u001b[49m\u001b[38;5;241;43m.\u001b[39;49m\u001b[43m_drop_axis\u001b[49m\u001b[43m(\u001b[49m\u001b[43mlabels\u001b[49m\u001b[43m,\u001b[49m\u001b[43m \u001b[49m\u001b[43maxis\u001b[49m\u001b[43m,\u001b[49m\u001b[43m \u001b[49m\u001b[43mlevel\u001b[49m\u001b[38;5;241;43m=\u001b[39;49m\u001b[43mlevel\u001b[49m\u001b[43m,\u001b[49m\u001b[43m \u001b[49m\u001b[43merrors\u001b[49m\u001b[38;5;241;43m=\u001b[39;49m\u001b[43merrors\u001b[49m\u001b[43m)\u001b[49m\n\u001b[0;32m   4713\u001b[0m \u001b[38;5;28;01mif\u001b[39;00m inplace:\n\u001b[0;32m   4714\u001b[0m     \u001b[38;5;28mself\u001b[39m\u001b[38;5;241m.\u001b[39m_update_inplace(obj)\n",
            "File \u001b[1;32me:\\Python 3.12\\Lib\\site-packages\\pandas\\core\\generic.py:4753\u001b[0m, in \u001b[0;36mNDFrame._drop_axis\u001b[1;34m(self, labels, axis, level, errors, only_slice)\u001b[0m\n\u001b[0;32m   4751\u001b[0m         new_axis \u001b[38;5;241m=\u001b[39m axis\u001b[38;5;241m.\u001b[39mdrop(labels, level\u001b[38;5;241m=\u001b[39mlevel, errors\u001b[38;5;241m=\u001b[39merrors)\n\u001b[0;32m   4752\u001b[0m     \u001b[38;5;28;01melse\u001b[39;00m:\n\u001b[1;32m-> 4753\u001b[0m         new_axis \u001b[38;5;241m=\u001b[39m \u001b[43maxis\u001b[49m\u001b[38;5;241;43m.\u001b[39;49m\u001b[43mdrop\u001b[49m\u001b[43m(\u001b[49m\u001b[43mlabels\u001b[49m\u001b[43m,\u001b[49m\u001b[43m \u001b[49m\u001b[43merrors\u001b[49m\u001b[38;5;241;43m=\u001b[39;49m\u001b[43merrors\u001b[49m\u001b[43m)\u001b[49m\n\u001b[0;32m   4754\u001b[0m     indexer \u001b[38;5;241m=\u001b[39m axis\u001b[38;5;241m.\u001b[39mget_indexer(new_axis)\n\u001b[0;32m   4756\u001b[0m \u001b[38;5;66;03m# Case for non-unique axis\u001b[39;00m\n\u001b[0;32m   4757\u001b[0m \u001b[38;5;28;01melse\u001b[39;00m:\n",
            "File \u001b[1;32me:\\Python 3.12\\Lib\\site-packages\\pandas\\core\\indexes\\base.py:6992\u001b[0m, in \u001b[0;36mIndex.drop\u001b[1;34m(self, labels, errors)\u001b[0m\n\u001b[0;32m   6990\u001b[0m \u001b[38;5;28;01mif\u001b[39;00m mask\u001b[38;5;241m.\u001b[39many():\n\u001b[0;32m   6991\u001b[0m     \u001b[38;5;28;01mif\u001b[39;00m errors \u001b[38;5;241m!=\u001b[39m \u001b[38;5;124m\"\u001b[39m\u001b[38;5;124mignore\u001b[39m\u001b[38;5;124m\"\u001b[39m:\n\u001b[1;32m-> 6992\u001b[0m         \u001b[38;5;28;01mraise\u001b[39;00m \u001b[38;5;167;01mKeyError\u001b[39;00m(\u001b[38;5;124mf\u001b[39m\u001b[38;5;124m\"\u001b[39m\u001b[38;5;132;01m{\u001b[39;00mlabels[mask]\u001b[38;5;241m.\u001b[39mtolist()\u001b[38;5;132;01m}\u001b[39;00m\u001b[38;5;124m not found in axis\u001b[39m\u001b[38;5;124m\"\u001b[39m)\n\u001b[0;32m   6993\u001b[0m     indexer \u001b[38;5;241m=\u001b[39m indexer[\u001b[38;5;241m~\u001b[39mmask]\n\u001b[0;32m   6994\u001b[0m \u001b[38;5;28;01mreturn\u001b[39;00m \u001b[38;5;28mself\u001b[39m\u001b[38;5;241m.\u001b[39mdelete(indexer)\n",
            "\u001b[1;31mKeyError\u001b[0m: \"['Patient_ID'] not found in axis\""
          ]
        }
      ],
      "source": [
        "df = df.drop(columns=[\"Patient_ID\"])\n",
        "df.head()"
      ]
    },
    {
      "cell_type": "markdown",
      "metadata": {},
      "source": [
        "Generating a summary of the statistics of the dataset such mean, total count of entries,minimum and maximum values."
      ]
    },
    {
      "cell_type": "code",
      "execution_count": 9,
      "metadata": {},
      "outputs": [
        {
          "data": {
            "text/html": [
              "<div>\n",
              "<style scoped>\n",
              "    .dataframe tbody tr th:only-of-type {\n",
              "        vertical-align: middle;\n",
              "    }\n",
              "\n",
              "    .dataframe tbody tr th {\n",
              "        vertical-align: top;\n",
              "    }\n",
              "\n",
              "    .dataframe thead th {\n",
              "        text-align: right;\n",
              "    }\n",
              "</style>\n",
              "<table border=\"1\" class=\"dataframe\">\n",
              "  <thead>\n",
              "    <tr style=\"text-align: right;\">\n",
              "      <th></th>\n",
              "      <th>Patient_ID</th>\n",
              "      <th>Age</th>\n",
              "      <th>TSH_Level</th>\n",
              "      <th>T3_Level</th>\n",
              "      <th>T4_Level</th>\n",
              "      <th>Nodule_Size</th>\n",
              "    </tr>\n",
              "  </thead>\n",
              "  <tbody>\n",
              "    <tr>\n",
              "      <th>count</th>\n",
              "      <td>212691.00000</td>\n",
              "      <td>212691.000000</td>\n",
              "      <td>212691.000000</td>\n",
              "      <td>212691.000000</td>\n",
              "      <td>212691.000000</td>\n",
              "      <td>212691.000000</td>\n",
              "    </tr>\n",
              "    <tr>\n",
              "      <th>mean</th>\n",
              "      <td>106346.00000</td>\n",
              "      <td>51.918497</td>\n",
              "      <td>5.045102</td>\n",
              "      <td>2.001727</td>\n",
              "      <td>8.246204</td>\n",
              "      <td>2.503403</td>\n",
              "    </tr>\n",
              "    <tr>\n",
              "      <th>std</th>\n",
              "      <td>61398.74739</td>\n",
              "      <td>21.632815</td>\n",
              "      <td>2.860264</td>\n",
              "      <td>0.866248</td>\n",
              "      <td>2.164188</td>\n",
              "      <td>1.444631</td>\n",
              "    </tr>\n",
              "    <tr>\n",
              "      <th>min</th>\n",
              "      <td>1.00000</td>\n",
              "      <td>15.000000</td>\n",
              "      <td>0.100000</td>\n",
              "      <td>0.500000</td>\n",
              "      <td>4.500000</td>\n",
              "      <td>0.000000</td>\n",
              "    </tr>\n",
              "    <tr>\n",
              "      <th>25%</th>\n",
              "      <td>53173.50000</td>\n",
              "      <td>33.000000</td>\n",
              "      <td>2.570000</td>\n",
              "      <td>1.250000</td>\n",
              "      <td>6.370000</td>\n",
              "      <td>1.250000</td>\n",
              "    </tr>\n",
              "    <tr>\n",
              "      <th>50%</th>\n",
              "      <td>106346.00000</td>\n",
              "      <td>52.000000</td>\n",
              "      <td>5.040000</td>\n",
              "      <td>2.000000</td>\n",
              "      <td>8.240000</td>\n",
              "      <td>2.510000</td>\n",
              "    </tr>\n",
              "    <tr>\n",
              "      <th>75%</th>\n",
              "      <td>159518.50000</td>\n",
              "      <td>71.000000</td>\n",
              "      <td>7.520000</td>\n",
              "      <td>2.750000</td>\n",
              "      <td>10.120000</td>\n",
              "      <td>3.760000</td>\n",
              "    </tr>\n",
              "    <tr>\n",
              "      <th>max</th>\n",
              "      <td>212691.00000</td>\n",
              "      <td>89.000000</td>\n",
              "      <td>10.000000</td>\n",
              "      <td>3.500000</td>\n",
              "      <td>12.000000</td>\n",
              "      <td>5.000000</td>\n",
              "    </tr>\n",
              "  </tbody>\n",
              "</table>\n",
              "</div>"
            ],
            "text/plain": [
              "         Patient_ID            Age      TSH_Level       T3_Level  \\\n",
              "count  212691.00000  212691.000000  212691.000000  212691.000000   \n",
              "mean   106346.00000      51.918497       5.045102       2.001727   \n",
              "std     61398.74739      21.632815       2.860264       0.866248   \n",
              "min         1.00000      15.000000       0.100000       0.500000   \n",
              "25%     53173.50000      33.000000       2.570000       1.250000   \n",
              "50%    106346.00000      52.000000       5.040000       2.000000   \n",
              "75%    159518.50000      71.000000       7.520000       2.750000   \n",
              "max    212691.00000      89.000000      10.000000       3.500000   \n",
              "\n",
              "            T4_Level    Nodule_Size  \n",
              "count  212691.000000  212691.000000  \n",
              "mean        8.246204       2.503403  \n",
              "std         2.164188       1.444631  \n",
              "min         4.500000       0.000000  \n",
              "25%         6.370000       1.250000  \n",
              "50%         8.240000       2.510000  \n",
              "75%        10.120000       3.760000  \n",
              "max        12.000000       5.000000  "
            ]
          },
          "execution_count": 9,
          "metadata": {},
          "output_type": "execute_result"
        }
      ],
      "source": [
        "df.describe()"
      ]
    },
    {
      "cell_type": "markdown",
      "metadata": {
        "id": "ZY3l0-AxO93d"
      },
      "source": [
        "---"
      ]
    },
    {
      "cell_type": "markdown",
      "metadata": {
        "id": "uFQo3ycuO-v6"
      },
      "source": [
        "# Section 2"
      ]
    },
    {
      "cell_type": "markdown",
      "metadata": {},
      "source": [
        "Section 2 content"
      ]
    },
    {
      "cell_type": "code",
      "execution_count": null,
      "metadata": {},
      "outputs": [],
      "source": []
    },
    {
      "cell_type": "markdown",
      "metadata": {},
      "source": [
        "---"
      ]
    },
    {
      "cell_type": "markdown",
      "metadata": {},
      "source": [
        "NOTE"
      ]
    },
    {
      "cell_type": "markdown",
      "metadata": {},
      "source": [
        "* You may add as many sections as you want, as long as it supports your project workflow.\n",
        "* All notebook's cells should be run top-down (you can't create a dynamic wherein a given point you need to go back to a previous cell to execute some task, like go back to a previous cell and refresh a variable content)"
      ]
    },
    {
      "cell_type": "markdown",
      "metadata": {},
      "source": [
        "---"
      ]
    },
    {
      "cell_type": "markdown",
      "metadata": {
        "id": "ltNetd085qHf"
      },
      "source": [
        "# Push files to Repo"
      ]
    },
    {
      "cell_type": "markdown",
      "metadata": {},
      "source": [
        "* In cases where you don't need to push files to Repo, you may replace this section with \"Conclusions and Next Steps\" and state your conclusions and next steps."
      ]
    },
    {
      "cell_type": "code",
      "execution_count": null,
      "metadata": {
        "id": "aKlnIozA4eQO",
        "outputId": "fd09bc1f-adb1-4511-f6ce-492a6af570c0"
      },
      "outputs": [],
      "source": [
        "import os\n",
        "try:\n",
        "  # create your folder here\n",
        "  # os.makedirs(name='')\n",
        "except Exception as e:\n",
        "  print(e)\n"
      ]
    }
  ],
  "metadata": {
    "accelerator": "GPU",
    "colab": {
      "name": "Data Practitioner Jupyter Notebook.ipynb",
      "provenance": [],
      "toc_visible": true
    },
    "kernelspec": {
      "display_name": "Python 3",
      "language": "python",
      "name": "python3"
    },
    "language_info": {
      "codemirror_mode": {
        "name": "ipython",
        "version": 3
      },
      "file_extension": ".py",
      "mimetype": "text/x-python",
      "name": "python",
      "nbconvert_exporter": "python",
      "pygments_lexer": "ipython3",
      "version": "3.12.8"
    },
    "orig_nbformat": 2
  },
  "nbformat": 4,
  "nbformat_minor": 2
}
